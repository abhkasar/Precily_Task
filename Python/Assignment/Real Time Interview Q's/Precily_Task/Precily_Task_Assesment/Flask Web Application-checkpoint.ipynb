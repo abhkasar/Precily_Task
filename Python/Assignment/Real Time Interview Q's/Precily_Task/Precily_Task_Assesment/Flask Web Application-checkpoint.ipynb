{
 "cells": [
  {
   "cell_type": "code",
   "execution_count": 1,
   "id": "0e10c7d4",
   "metadata": {},
   "outputs": [],
   "source": [
    "import joblib, requests, string\n",
    "from joblib import dump, load\n",
    "import pandas as pd\n",
    "from nltk.stem import PorterStemmer\n",
    "from nltk.stem import WordNetLemmatizer\n",
    "from nltk.corpus import stopwords\n",
    "from nltk import word_tokenize\n",
    "import math, nltk, json\n",
    "from collections import Counter\n",
    "from flask import Flask, jsonify, render_template, request"
   ]
  },
  {
   "cell_type": "code",
   "execution_count": 2,
   "id": "c2ac8261",
   "metadata": {},
   "outputs": [],
   "source": [
    "app = Flask(__name__)"
   ]
  },
  {
   "cell_type": "code",
   "execution_count": 3,
   "id": "95a1dd30",
   "metadata": {},
   "outputs": [],
   "source": [
    "stemmer = PorterStemmer()\n",
    "def stem_words(text):\n",
    "    return ' '.join([stemmer.stem(word) for word in text.split()])\n",
    "\n",
    "lemmatizer = WordNetLemmatizer()\n",
    "def lemmatize_words(text):\n",
    "    return ' '.join([lemmatizer.lemmatize(word) for word in text.split()])\n",
    "\n",
    "def text_process(text):\n",
    "    nopunc = [char for char in text if char not in string.punctuation]\n",
    "    nopunc = ''.join(nopunc)\n",
    "    return ' '.join([word for word in nopunc.split() if word.lower() not in stopwords.words('english') and not word.isdigit()])"
   ]
  },
  {
   "cell_type": "code",
   "execution_count": 4,
   "id": "6eda71d7",
   "metadata": {},
   "outputs": [],
   "source": [
    "def build_vector(iterable1, iterable2):\n",
    "    counter1 = Counter(iterable1)\n",
    "    counter2 = Counter(iterable2)\n",
    "    all_items = set(counter1.keys()).union(set(counter2.keys()))\n",
    "    vector1 = [counter1[k] for k in all_items]\n",
    "    vector2 = [counter2[k] for k in all_items]\n",
    "    return vector1, vector2"
   ]
  },
  {
   "cell_type": "code",
   "execution_count": 5,
   "id": "9026baae",
   "metadata": {},
   "outputs": [],
   "source": [
    "def cosim(v1, v2):\n",
    "    dot_product = sum(n1 * n2 for n1, n2 in zip(v1, v2) )\n",
    "    magnitude1 = math.sqrt(sum(n ** 2 for n in v1))\n",
    "    magnitude2 = math.sqrt(sum(n ** 2 for n in v2))\n",
    "    return dot_product / (magnitude1 * magnitude2)"
   ]
  },
  {
   "cell_type": "code",
   "execution_count": null,
   "id": "694cc229",
   "metadata": {},
   "outputs": [
    {
     "name": "stdout",
     "output_type": "stream",
     "text": [
      " * Serving Flask app '__main__' (lazy loading)\n",
      " * Environment: production\n",
      "\u001b[31m   WARNING: This is a development server. Do not use it in a production deployment.\u001b[0m\n",
      "\u001b[2m   Use a production WSGI server instead.\u001b[0m\n",
      " * Debug mode: off\n"
     ]
    },
    {
     "name": "stderr",
     "output_type": "stream",
     "text": [
      " * Running on http://127.0.0.1:8080/ (Press CTRL+C to quit)\n",
      "127.0.0.1 - - [16/Apr/2022 01:31:00] \"GET / HTTP/1.1\" 200 -\n",
      "127.0.0.1 - - [16/Apr/2022 01:31:00] \"GET /static/styles/styles.css HTTP/1.1\" 404 -\n",
      "127.0.0.1 - - [16/Apr/2022 01:31:28] \"POST /predict HTTP/1.1\" 200 -\n"
     ]
    }
   ],
   "source": [
    "@app.route('/')\n",
    "def home():\n",
    "    return render_template('text_similarity.html')\n",
    "\n",
    "@app.route('/predict',methods=['POST'])\n",
    "def predict():\n",
    "    if request.method == 'POST':\n",
    "        text1 = request.form.get(\"text1\")\n",
    "        text2 = request.form.get(\"text2\")\n",
    "#         text1 = text_process(text1)\n",
    "#         text2 = text_process(text2)\n",
    "#         text1 = stem_words(text1)\n",
    "#         text2 = stem_words(text2)\n",
    "#         text1 = lemmatize_words(text1)\n",
    "#         text2 = lemmatize_words(text2)\n",
    "        t1 = text1.split()\n",
    "        t2 = text2.split()\n",
    "        v1,v2 = build_vector(t1,t2)\n",
    "        return jsonify({'similarity_score': cosim(v1,v2)})\n",
    "\n",
    "if __name__ == '__main__':\n",
    "    cosine_similarity_model = joblib.load('model.pkl')\n",
    "    app.run(port=8080)\n"
   ]
  }
 ],
 "metadata": {
  "kernelspec": {
   "display_name": "Python 3 (ipykernel)",
   "language": "python",
   "name": "python3"
  },
  "language_info": {
   "codemirror_mode": {
    "name": "ipython",
    "version": 3
   },
   "file_extension": ".py",
   "mimetype": "text/x-python",
   "name": "python",
   "nbconvert_exporter": "python",
   "pygments_lexer": "ipython3",
   "version": "3.8.8"
  }
 },
 "nbformat": 4,
 "nbformat_minor": 5
}
